{
 "cells": [
  {
   "cell_type": "code",
   "execution_count": 3,
   "metadata": {},
   "outputs": [
    {
     "name": "stdout",
     "output_type": "stream",
     "text": [
      "Hello world!*Python 3\n"
     ]
    }
   ],
   "source": [
    "print('Hello world!', end='*')\n",
    "print('Python 3')"
   ]
  },
  {
   "cell_type": "code",
   "execution_count": 5,
   "metadata": {},
   "outputs": [
    {
     "name": "stdout",
     "output_type": "stream",
     "text": [
      "IT AMC Tech\n",
      "IT-AMC-Tech\n"
     ]
    }
   ],
   "source": [
    "print(\"IT\", \"AMC\", \"Tech\")\n",
    "print(\"IT\", \"AMC\", \"Tech\", sep='-')"
   ]
  },
  {
   "cell_type": "code",
   "execution_count": 7,
   "metadata": {},
   "outputs": [
    {
     "name": "stdout",
     "output_type": "stream",
     "text": [
      "IT-AMC-Tech!\n",
      "IT/AMC/Tech!\n"
     ]
    }
   ],
   "source": [
    "print(\"IT\", \"AMC\", \"Tech\", sep='-', end='!\\n')\n",
    "print(\"IT\", \"AMC\", \"Tech\", sep='/', end='!\\n')"
   ]
  },
  {
   "cell_type": "code",
   "execution_count": 10,
   "metadata": {},
   "outputs": [
    {
     "name": "stdout",
     "output_type": "stream",
     "text": [
      "aa\n",
      "*---"
     ]
    }
   ],
   "source": [
    "print('a'*2)\n",
    "print('*', end='-'*3)"
   ]
  }
 ],
 "metadata": {
  "kernelspec": {
   "display_name": "Python 3",
   "language": "python",
   "name": "python3"
  },
  "language_info": {
   "codemirror_mode": {
    "name": "ipython",
    "version": 3
   },
   "file_extension": ".py",
   "mimetype": "text/x-python",
   "name": "python",
   "nbconvert_exporter": "python",
   "pygments_lexer": "ipython3",
   "version": "3.10.13"
  }
 },
 "nbformat": 4,
 "nbformat_minor": 2
}
